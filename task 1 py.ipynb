{
 "cells": [
  {
   "cell_type": "markdown",
   "id": "cf848d93-6e75-4643-8951-6312a929e26f",
   "metadata": {},
   "source": [
    "# 1)Capitalize\n",
    "\n",
    "* convert first character to upper case\n"
   ]
  },
  {
   "cell_type": "code",
   "execution_count": 10,
   "id": "c0fc1f34-327b-44a0-ac80-81a47f4765ba",
   "metadata": {},
   "outputs": [],
   "source": [
    "txt1 = 'today is the wonderfull day'"
   ]
  },
  {
   "cell_type": "code",
   "execution_count": 12,
   "id": "5e89fda4-34f2-4e31-b2e3-e9b9c94d3122",
   "metadata": {},
   "outputs": [],
   "source": [
    "x1 = txt1.capitalize()"
   ]
  },
  {
   "cell_type": "code",
   "execution_count": 14,
   "id": "e7eacee8-4ca2-405f-9aa9-c96fc865dbb2",
   "metadata": {},
   "outputs": [
    {
     "data": {
      "text/plain": [
       "'Today is the wonderfull day'"
      ]
     },
     "execution_count": 14,
     "metadata": {},
     "output_type": "execute_result"
    }
   ],
   "source": [
    "x1"
   ]
  },
  {
   "cell_type": "markdown",
   "id": "aed713d2-f8eb-4e0a-beaf-5273d4229a86",
   "metadata": {},
   "source": [
    "# 2)count\n",
    "\n",
    " * count the return of number of value"
   ]
  },
  {
   "cell_type": "code",
   "execution_count": 40,
   "id": "82f5398e-cbeb-4efb-825f-2278224f4f31",
   "metadata": {},
   "outputs": [],
   "source": [
    "txt2 = 'i am go to the ARC class but ARC class is online'"
   ]
  },
  {
   "cell_type": "code",
   "execution_count": 42,
   "id": "4ef099ce-0b7b-4706-98a6-561aa95bd749",
   "metadata": {},
   "outputs": [],
   "source": [
    "x2 = txt2.count('ARC')"
   ]
  },
  {
   "cell_type": "code",
   "execution_count": 44,
   "id": "90093320-458f-4269-afd0-e22dee378752",
   "metadata": {},
   "outputs": [
    {
     "data": {
      "text/plain": [
       "2"
      ]
     },
     "execution_count": 44,
     "metadata": {},
     "output_type": "execute_result"
    }
   ],
   "source": [
    "x2"
   ]
  },
  {
   "cell_type": "markdown",
   "id": "02ff6c55-3cf8-4a01-85e8-f1aa9a626bd2",
   "metadata": {},
   "source": [
    "# 3) center\n",
    "\n",
    "* return a centered strings"
   ]
  },
  {
   "cell_type": "code",
   "execution_count": 47,
   "id": "041b1dfb-2e54-4a22-a6c3-641e00de9139",
   "metadata": {},
   "outputs": [],
   "source": [
    "txt3 = 'apple'"
   ]
  },
  {
   "cell_type": "code",
   "execution_count": 51,
   "id": "6530a656-46cb-4b9c-b6ee-ab5fc067343a",
   "metadata": {},
   "outputs": [],
   "source": [
    "x3 = txt3.center(30,'f')"
   ]
  },
  {
   "cell_type": "code",
   "execution_count": 53,
   "id": "67fff7eb-a28c-4b15-af29-3b4c00e34152",
   "metadata": {},
   "outputs": [
    {
     "data": {
      "text/plain": [
       "'ffffffffffffapplefffffffffffff'"
      ]
     },
     "execution_count": 53,
     "metadata": {},
     "output_type": "execute_result"
    }
   ],
   "source": [
    "x3"
   ]
  },
  {
   "cell_type": "markdown",
   "id": "5ee887d5-7396-4a0f-8caa-6e1548d5f765",
   "metadata": {},
   "source": [
    "# 4) find\n",
    "\n",
    "* search a specified value and return the position where it was found\n"
   ]
  },
  {
   "cell_type": "code",
   "execution_count": 57,
   "id": "0dbcdabe-91e2-40ff-b987-ce18247d14e4",
   "metadata": {},
   "outputs": [],
   "source": [
    "txt4 = 'this is the ARC batch of DA7'"
   ]
  },
  {
   "cell_type": "code",
   "execution_count": 59,
   "id": "23bb6245-c2c5-42f5-a412-f48fb14bc5df",
   "metadata": {},
   "outputs": [],
   "source": [
    "x4 = txt4.find('ARC')"
   ]
  },
  {
   "cell_type": "code",
   "execution_count": 61,
   "id": "23e85703-543e-40f2-ba8b-7577b1fec625",
   "metadata": {},
   "outputs": [
    {
     "data": {
      "text/plain": [
       "12"
      ]
     },
     "execution_count": 61,
     "metadata": {},
     "output_type": "execute_result"
    }
   ],
   "source": [
    "x4"
   ]
  },
  {
   "cell_type": "markdown",
   "id": "7ce80f17-564a-4ddb-99b1-3a06db13b62c",
   "metadata": {},
   "source": [
    "# 5)format\n",
    "\n",
    "* format specified the value in string"
   ]
  },
  {
   "cell_type": "code",
   "execution_count": 65,
   "id": "f4cb9fcf-453e-4dd8-be98-2dfc47db4c29",
   "metadata": {},
   "outputs": [],
   "source": [
    "txt5 = 'for only the {price:.3f} doller'"
   ]
  },
  {
   "cell_type": "code",
   "execution_count": 71,
   "id": "fadc4896-43a2-4dc7-8050-afbb49f5e7bc",
   "metadata": {},
   "outputs": [],
   "source": [
    "x5 = txt5.format(price = 80)"
   ]
  },
  {
   "cell_type": "code",
   "execution_count": 73,
   "id": "df2dfb59-31f2-45d5-a784-1eb41e9e8af2",
   "metadata": {},
   "outputs": [
    {
     "data": {
      "text/plain": [
       "'for only the 80.000 doller'"
      ]
     },
     "execution_count": 73,
     "metadata": {},
     "output_type": "execute_result"
    }
   ],
   "source": [
    "x5"
   ]
  },
  {
   "cell_type": "markdown",
   "id": "05e0b3c9-399d-4d7c-bdf2-165d875e9e85",
   "metadata": {},
   "source": [
    "# 6) join\n",
    "\n",
    "* join all item"
   ]
  },
  {
   "cell_type": "code",
   "execution_count": 77,
   "id": "d1517e54-729a-4346-ae81-78ab5d9f0547",
   "metadata": {},
   "outputs": [],
   "source": [
    "txt6 = ('doremon','pogo','xz')\n"
   ]
  },
  {
   "cell_type": "code",
   "execution_count": 79,
   "id": "6a2ed62b-c042-4944-8167-a2df5476bddb",
   "metadata": {},
   "outputs": [],
   "source": [
    "x6 = '$'.join(txt6)"
   ]
  },
  {
   "cell_type": "code",
   "execution_count": 81,
   "id": "f824b2e8-22c3-478c-8e6d-657b6151da79",
   "metadata": {},
   "outputs": [
    {
     "data": {
      "text/plain": [
       "'doremon$pogo$xz'"
      ]
     },
     "execution_count": 81,
     "metadata": {},
     "output_type": "execute_result"
    }
   ],
   "source": [
    "x6"
   ]
  },
  {
   "cell_type": "markdown",
   "id": "56cec723-5d7d-41ef-9f0d-ce7dd37867c5",
   "metadata": {},
   "source": [
    "# 7) lower\n",
    "\n",
    "* convert words into lower case"
   ]
  },
  {
   "cell_type": "code",
   "execution_count": 85,
   "id": "4157a365-6f38-4405-9f71-31d6fe4224cf",
   "metadata": {},
   "outputs": [],
   "source": [
    "txt7 = 'THE SKY IS BLUE'"
   ]
  },
  {
   "cell_type": "code",
   "execution_count": 87,
   "id": "b719e65b-8b11-41b2-8a95-08356de58d64",
   "metadata": {},
   "outputs": [],
   "source": [
    "x7 = txt7.lower()"
   ]
  },
  {
   "cell_type": "code",
   "execution_count": 89,
   "id": "f3313d28-8614-4474-aca3-3b06fbdbebeb",
   "metadata": {},
   "outputs": [
    {
     "data": {
      "text/plain": [
       "'the sky is blue'"
      ]
     },
     "execution_count": 89,
     "metadata": {},
     "output_type": "execute_result"
    }
   ],
   "source": [
    "x7"
   ]
  },
  {
   "cell_type": "markdown",
   "id": "9acaf508-8b9b-4f86-9d81-e2c965a8676b",
   "metadata": {},
   "source": [
    "# 8)split\n",
    "\n",
    "* split specified the separate  of return list"
   ]
  },
  {
   "cell_type": "code",
   "execution_count": 95,
   "id": "f629dd45-9b1b-4c35-a83e-3cf665a1c8d3",
   "metadata": {},
   "outputs": [],
   "source": [
    "txt8 = 'welcome to ARC DA7 batch'"
   ]
  },
  {
   "cell_type": "code",
   "execution_count": 97,
   "id": "4679b66e-d050-4d46-b161-dac3c350c45b",
   "metadata": {},
   "outputs": [],
   "source": [
    "x8 = txt8.split()"
   ]
  },
  {
   "cell_type": "code",
   "execution_count": 99,
   "id": "1d3613ec-f61a-461e-985d-a527f12203fe",
   "metadata": {},
   "outputs": [
    {
     "data": {
      "text/plain": [
       "['welcome', 'to', 'ARC', 'DA7', 'batch']"
      ]
     },
     "execution_count": 99,
     "metadata": {},
     "output_type": "execute_result"
    }
   ],
   "source": [
    "x8"
   ]
  },
  {
   "cell_type": "markdown",
   "id": "f2859fb6-3ddd-4686-962f-e1c8bf499ecd",
   "metadata": {},
   "source": [
    "# 9) strip\n",
    "\n",
    "* remove the beginning and trailing"
   ]
  },
  {
   "cell_type": "code",
   "execution_count": 105,
   "id": "0e024603-d26c-450d-a893-0b45ed344bd9",
   "metadata": {},
   "outputs": [],
   "source": [
    "txt9 = '..trd.,,,ARC,,.urd'"
   ]
  },
  {
   "cell_type": "code",
   "execution_count": 109,
   "id": "c7cafdc8-8eaf-46cb-9a15-97c79d7d3af5",
   "metadata": {},
   "outputs": [],
   "source": [
    "x9 = txt9.strip('.,trdu')"
   ]
  },
  {
   "cell_type": "code",
   "execution_count": 111,
   "id": "7ca5a811-e545-4d03-b53e-b5725e9aca6a",
   "metadata": {},
   "outputs": [
    {
     "data": {
      "text/plain": [
       "'ARC'"
      ]
     },
     "execution_count": 111,
     "metadata": {},
     "output_type": "execute_result"
    }
   ],
   "source": [
    "x9"
   ]
  },
  {
   "cell_type": "markdown",
   "id": "9db3109a-4162-4dfa-a35c-b53106368822",
   "metadata": {},
   "source": [
    "# 10) title\n",
    "\n",
    "convert first character of each words in upper case"
   ]
  },
  {
   "cell_type": "code",
   "execution_count": 115,
   "id": "275450e4-dd6c-4ecd-bc7b-e83d969dffd1",
   "metadata": {},
   "outputs": [],
   "source": [
    "txt10 = 'student going to the class'"
   ]
  },
  {
   "cell_type": "code",
   "execution_count": 117,
   "id": "7bdf4aee-d787-4675-a5a3-e4bd58fe43c3",
   "metadata": {},
   "outputs": [],
   "source": [
    "x10 = txt10.title()"
   ]
  },
  {
   "cell_type": "code",
   "execution_count": 119,
   "id": "cf8288a9-db05-463f-aff6-bbfa166274c0",
   "metadata": {},
   "outputs": [
    {
     "data": {
      "text/plain": [
       "'Student Going To The Class'"
      ]
     },
     "execution_count": 119,
     "metadata": {},
     "output_type": "execute_result"
    }
   ],
   "source": [
    "x10"
   ]
  },
  {
   "cell_type": "markdown",
   "id": "978cb48e-b5c7-4f18-8613-ff6908711b97",
   "metadata": {},
   "source": [
    "# 11) upper\n",
    "\n",
    "* convert all character in upper case"
   ]
  },
  {
   "cell_type": "code",
   "execution_count": 122,
   "id": "f697f7f1-7ceb-410b-be9b-09a434ad435c",
   "metadata": {},
   "outputs": [],
   "source": [
    "txt11 = 'student going to the class'"
   ]
  },
  {
   "cell_type": "code",
   "execution_count": 124,
   "id": "4d43ff14-07fd-496b-9684-689cf87e5218",
   "metadata": {},
   "outputs": [],
   "source": [
    "x11 = txt11.upper()"
   ]
  },
  {
   "cell_type": "code",
   "execution_count": 126,
   "id": "68c3d735-3b86-4e0f-b4a6-53615aa17bc5",
   "metadata": {},
   "outputs": [
    {
     "data": {
      "text/plain": [
       "'STUDENT GOING TO THE CLASS'"
      ]
     },
     "execution_count": 126,
     "metadata": {},
     "output_type": "execute_result"
    }
   ],
   "source": [
    "x11"
   ]
  },
  {
   "cell_type": "markdown",
   "id": "e14781cb-0302-4664-8f5a-24ec8da2b5b7",
   "metadata": {},
   "source": [
    "# 12) zfile\n",
    "\n",
    "* zfile add a zero of beginning of string"
   ]
  },
  {
   "cell_type": "code",
   "execution_count": 130,
   "id": "3b9f297e-b605-4875-9080-ab85f61d8963",
   "metadata": {},
   "outputs": [],
   "source": [
    "txt12 = '55'"
   ]
  },
  {
   "cell_type": "code",
   "execution_count": 134,
   "id": "a556596e-b94d-40d9-b293-3e8d0a4a1d67",
   "metadata": {},
   "outputs": [],
   "source": [
    "x12 = txt12.zfill(10)"
   ]
  },
  {
   "cell_type": "code",
   "execution_count": 136,
   "id": "4698e390-808a-4db7-b216-11bd36f08bc8",
   "metadata": {},
   "outputs": [
    {
     "data": {
      "text/plain": [
       "'0000000055'"
      ]
     },
     "execution_count": 136,
     "metadata": {},
     "output_type": "execute_result"
    }
   ],
   "source": [
    "x12"
   ]
  },
  {
   "cell_type": "markdown",
   "id": "d9ff1f08-d646-4b51-821a-cccfcc716cab",
   "metadata": {},
   "source": [
    "# 13) ljust \n",
    "\n",
    "give the character and give a space"
   ]
  },
  {
   "cell_type": "code",
   "execution_count": 139,
   "id": "16d84054-a487-40f5-9f67-0dddda14927e",
   "metadata": {},
   "outputs": [],
   "source": [
    "txt13 = 'apple'"
   ]
  },
  {
   "cell_type": "code",
   "execution_count": 143,
   "id": "0b55cb28-cd53-49ec-9196-189fff4c8cb7",
   "metadata": {},
   "outputs": [],
   "source": [
    "x13 = txt13.ljust(10)"
   ]
  },
  {
   "cell_type": "code",
   "execution_count": 145,
   "id": "21346ba4-d11e-4562-a6d2-face041a606f",
   "metadata": {},
   "outputs": [
    {
     "name": "stdout",
     "output_type": "stream",
     "text": [
      "apple      is my favourite fruit\n"
     ]
    }
   ],
   "source": [
    "print(x13, 'is my favourite fruit')"
   ]
  },
  {
   "cell_type": "markdown",
   "id": "ab059fdb-4f9f-4395-8ef1-5baa717b234b",
   "metadata": {},
   "source": [
    "# 14) casefold\n",
    "\n",
    "* convert character into lower case"
   ]
  },
  {
   "cell_type": "code",
   "execution_count": 148,
   "id": "b3bc1633-5746-4e73-b38a-5b1f635b8a20",
   "metadata": {},
   "outputs": [],
   "source": [
    "txt14 = 'GOING TO ARC CLASS'"
   ]
  },
  {
   "cell_type": "code",
   "execution_count": 150,
   "id": "4668b36e-ed14-448b-acd9-d03f7b25f696",
   "metadata": {},
   "outputs": [],
   "source": [
    "x14 = txt14.casefold()"
   ]
  },
  {
   "cell_type": "code",
   "execution_count": 152,
   "id": "faa433bf-f070-4a48-a0ce-8da39998de40",
   "metadata": {},
   "outputs": [
    {
     "data": {
      "text/plain": [
       "'going to arc class'"
      ]
     },
     "execution_count": 152,
     "metadata": {},
     "output_type": "execute_result"
    }
   ],
   "source": [
    "x14"
   ]
  },
  {
   "cell_type": "markdown",
   "id": "e7fc3da5-6a2f-4007-8a33-d3ddd9d14745",
   "metadata": {},
   "source": [
    "# 15) partition \n",
    "\n",
    "* partition method split a specifed strings"
   ]
  },
  {
   "cell_type": "code",
   "execution_count": 156,
   "id": "9aee139c-f001-494d-bb57-181bec7e5ae7",
   "metadata": {},
   "outputs": [],
   "source": [
    "txt15 = 'welcome to ARC DA7 batch'"
   ]
  },
  {
   "cell_type": "code",
   "execution_count": 159,
   "id": "47113e93-252c-444c-9525-a4cba5544b9c",
   "metadata": {},
   "outputs": [],
   "source": [
    "x15 = txt15.partition('ARC')"
   ]
  },
  {
   "cell_type": "code",
   "execution_count": 161,
   "id": "9f6f9c10-531e-4a83-aca0-a30da8d486c2",
   "metadata": {},
   "outputs": [
    {
     "data": {
      "text/plain": [
       "('welcome to ', 'ARC', ' DA7 batch')"
      ]
     },
     "execution_count": 161,
     "metadata": {},
     "output_type": "execute_result"
    }
   ],
   "source": [
    "x15"
   ]
  },
  {
   "cell_type": "code",
   "execution_count": null,
   "id": "9aad8173-23a7-443d-ba35-ac856a8ab770",
   "metadata": {},
   "outputs": [],
   "source": []
  }
 ],
 "metadata": {
  "kernelspec": {
   "display_name": "Python 3 (ipykernel)",
   "language": "python",
   "name": "python3"
  },
  "language_info": {
   "codemirror_mode": {
    "name": "ipython",
    "version": 3
   },
   "file_extension": ".py",
   "mimetype": "text/x-python",
   "name": "python",
   "nbconvert_exporter": "python",
   "pygments_lexer": "ipython3",
   "version": "3.12.4"
  }
 },
 "nbformat": 4,
 "nbformat_minor": 5
}
